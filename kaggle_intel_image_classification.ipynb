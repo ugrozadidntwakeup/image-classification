{
  "nbformat": 4,
  "nbformat_minor": 0,
  "metadata": {
    "colab": {
      "name": "kaggle_intel_image_classification.ipynb",
      "provenance": []
    },
    "kernelspec": {
      "name": "python3",
      "display_name": "Python 3"
    },
    "language_info": {
      "name": "python"
    },
    "accelerator": "GPU"
  },
  "cells": [
    {
      "cell_type": "code",
      "metadata": {
        "id": "N_lvUC6U_lTq"
      },
      "source": [
        "import torch\n",
        "import numpy as np \n",
        "import pandas as pd\n",
        "import PIL"
      ],
      "execution_count": 3,
      "outputs": []
    },
    {
      "cell_type": "code",
      "metadata": {
        "colab": {
          "base_uri": "https://localhost:8080/"
        },
        "id": "mqU87nxACNEq",
        "outputId": "e35169c5-71e3-40c7-c72d-729b9e36bf75"
      },
      "source": [
        "torch.cuda.is_available()"
      ],
      "execution_count": 2,
      "outputs": [
        {
          "output_type": "execute_result",
          "data": {
            "text/plain": [
              "True"
            ]
          },
          "metadata": {
            "tags": []
          },
          "execution_count": 2
        }
      ]
    },
    {
      "cell_type": "code",
      "metadata": {
        "colab": {
          "base_uri": "https://localhost:8080/",
          "height": 90
        },
        "id": "QTQiXv1wCjEc",
        "outputId": "b1d51ed4-640a-458e-c71a-e8a5637b4e06"
      },
      "source": [
        "PIL.PILLOW_VERSION"
      ],
      "execution_count": 4,
      "outputs": [
        {
          "output_type": "stream",
          "text": [
            "/usr/local/lib/python3.7/dist-packages/ipykernel_launcher.py:1: DeprecationWarning: PILLOW_VERSION is deprecated and will be removed in a future release. Use __version__ instead.\n",
            "  \"\"\"Entry point for launching an IPython kernel.\n"
          ],
          "name": "stderr"
        },
        {
          "output_type": "execute_result",
          "data": {
            "application/vnd.google.colaboratory.intrinsic+json": {
              "type": "string"
            },
            "text/plain": [
              "'7.1.2'"
            ]
          },
          "metadata": {
            "tags": []
          },
          "execution_count": 4
        }
      ]
    },
    {
      "cell_type": "code",
      "metadata": {
        "id": "iaPJoMO6DKzX"
      },
      "source": [
        "from google.colab import drive"
      ],
      "execution_count": 5,
      "outputs": []
    },
    {
      "cell_type": "code",
      "metadata": {
        "colab": {
          "base_uri": "https://localhost:8080/"
        },
        "id": "TBDU7cHxDeGl",
        "outputId": "692d2927-29e6-4852-96ec-7da1e3cf4734"
      },
      "source": [
        "drive.mount('/content/gdrive/')"
      ],
      "execution_count": 6,
      "outputs": [
        {
          "output_type": "stream",
          "text": [
            "Mounted at /content/gdrive/\n"
          ],
          "name": "stdout"
        }
      ]
    },
    {
      "cell_type": "code",
      "metadata": {
        "colab": {
          "base_uri": "https://localhost:8080/"
        },
        "id": "VNr3uI6-Dkt6",
        "outputId": "43f98b88-033a-4199-eb30-f6d623f2924f"
      },
      "source": [
        "! ls /content/gdrive/"
      ],
      "execution_count": 7,
      "outputs": [
        {
          "output_type": "stream",
          "text": [
            "MyDrive  Shareddrives\n"
          ],
          "name": "stdout"
        }
      ]
    },
    {
      "cell_type": "code",
      "metadata": {
        "colab": {
          "base_uri": "https://localhost:8080/"
        },
        "id": "W_-kh-g4D0hX",
        "outputId": "34dfe820-f638-4732-82eb-cbadaede6f08"
      },
      "source": [
        "! ls /content/gdrive/MyDrive"
      ],
      "execution_count": 9,
      "outputs": [
        {
          "output_type": "stream",
          "text": [
            " 1.gsheet\n",
            " 383A6317-E9CB-4CD7-99E8-FCC1A7123644.jpeg\n",
            " 3-kurs-osen-z-2020.xls\n",
            " 4C5B1370-9226-46BE-94E2-F0FB388770AA.jpeg\n",
            " 6BEDD150-8DBA-41F6-8B61-06D43FE0DF2D.jpeg\n",
            " 7FAE7CFA-78E8-411D-9287-D82FD24B0E41.jpeg\n",
            "'Arsan Emmanuel. Emmanuel - BooksCafe (1).Net.epub'\n",
            "'Arsan Emmanuel. Emmanuel - BooksCafe.Net.epub'\n",
            " Classroom\n",
            "'CV (1).pdf'\n",
            "'CV (3) (1).pdf'\n",
            "'CV (3).pdf'\n",
            " E3E54975-8670-4054-8E72-EB40A0A0A518.jpeg\n",
            " intel_image.zip\n",
            " journey-springfield.zip\n",
            " labels.csv\n",
            " Petrovich-3.pdf\n",
            "'Аристова вычматы часть 2 (1).pdf'\n",
            "'Аристова вычматы часть 2.pdf'\n",
            "'Вариант 72.docx'\n",
            " Зальчик.gsheet\n",
            " заявление.jpg\n",
            "'Копия (IMG_3907.CR2)'\n",
            "'Копия Задачи.xlsx'\n",
            "'Матч века'\n",
            "'Цепочка писем.pdf'\n"
          ],
          "name": "stdout"
        }
      ]
    },
    {
      "cell_type": "code",
      "metadata": {
        "id": "YkQuHIKID41E"
      },
      "source": [
        "!unzip -q /content/gdrive/MyDrive/intel_image.zip -d seg_train\n",
        "!unzip -q /content/gdrive/MyDrive/intel_image.zip -d seg_test"
      ],
      "execution_count": 18,
      "outputs": []
    },
    {
      "cell_type": "code",
      "metadata": {
        "colab": {
          "base_uri": "https://localhost:8080/"
        },
        "id": "2VD-Q9_LHh9b",
        "outputId": "436bbf42-72f8-442b-b1ae-95152dabfbc6"
      },
      "source": [
        "!ls seg_train"
      ],
      "execution_count": 11,
      "outputs": [
        {
          "output_type": "stream",
          "text": [
            "characters_illustration.png  sample_submission.csv  testset  train\n"
          ],
          "name": "stdout"
        }
      ]
    },
    {
      "cell_type": "code",
      "metadata": {
        "id": "Z_jSHSuIIQe2"
      },
      "source": [
        "import pickle \n",
        "\n",
        "from skimage import io\n",
        "from tqdm import tqdm, tqdm_notebook\n",
        "from PIL import Image\n",
        "from torchvision import transforms, models\n",
        "from multiprocessing.pool import ThreadPool\n",
        "from sklearn.preprocessing import LabelEncoder\n",
        "from torch.utils.data import Dataset, DataLoader\n",
        "import torch.nn as nn\n",
        "\n",
        "from matplotlib import colors, pyplot as plt\n",
        "%matplotlib inline\n",
        "\n",
        "import warnings\n",
        "warnings.filterwarnings(action='ignore', category=DeprecationWarning)\n"
      ],
      "execution_count": 13,
      "outputs": []
    },
    {
      "cell_type": "code",
      "metadata": {
        "id": "D-VSBq2_I3RK"
      },
      "source": [
        "data_mode = ['train', 'test', 'val']\n",
        "image_size = 100\n",
        "device = torch.device('cuda')"
      ],
      "execution_count": 15,
      "outputs": []
    },
    {
      "cell_type": "code",
      "metadata": {
        "id": "ah91cFl_KXTr"
      },
      "source": [
        "class ImageDataset(Dataset):\n",
        "    \"\"\"\n",
        "    Датасет с картинками, который паралельно подгружает их из папок\n",
        "    производит скалирование и превращение в торчевые тензоры\n",
        "    \"\"\"\n",
        "    def __init__(self, files, mode):\n",
        "        super().__init__()\n",
        "        # список файлов для загрузки\n",
        "        self.files = sorted(files)\n",
        "        # режим работы\n",
        "        self.mode = mode\n",
        "\n",
        "        if self.mode not in data_mode:\n",
        "            print(f\"{self.mode} is not correct; correct modes: {data_mode}\")\n",
        "            raise NameError\n",
        "\n",
        "        self.len_ = len(self.files)\n",
        "     \n",
        "        self.label_encoder = LabelEncoder()\n",
        "\n",
        "        if self.mode != 'test':\n",
        "            self.labels = [path.parent.name for path in self.files]\n",
        "            self.label_encoder.fit(self.labels)\n",
        "\n",
        "            with open('label_encoder.pkl', 'wb') as le_dump_file:\n",
        "                  pickle.dump(self.label_encoder, le_dump_file)\n",
        "                      \n",
        "    def __len__(self):\n",
        "        return self.len_\n",
        "      \n",
        "    def load_sample(self, file):\n",
        "        image = Image.open(file)\n",
        "        image.load()\n",
        "        return image\n",
        "  \n",
        "    def __getitem__(self, index):\n",
        "        # для преобразования изображений в тензоры PyTorch и нормализации входа\n",
        "        transform = transforms.Compose([\n",
        "            transforms.ToTensor(),\n",
        "            transforms.Normalize([0.485, 0.456, 0.406], [0.229, 0.224, 0.225]) \n",
        "        ])\n",
        "        x = self.load_sample(self.files[index])\n",
        "        x = self._prepare_sample(x)\n",
        "        x = np.array(x / 255, dtype='float32')\n",
        "        x = transform(x)\n",
        "        if self.mode == 'test':\n",
        "            return x\n",
        "        else:\n",
        "            label = self.labels[index]\n",
        "            label_id = self.label_encoder.transform([label])\n",
        "            y = label_id.item()\n",
        "            return x, y\n",
        "        \n",
        "    def _prepare_sample(self, image):\n",
        "        image = image.resize((image_size, image_size))\n",
        "        return np.array(image)"
      ],
      "execution_count": 16,
      "outputs": []
    },
    {
      "cell_type": "code",
      "metadata": {
        "id": "r6X48FFvOamO"
      },
      "source": [
        "def imshow(inp, title=None, plt_ax=plt, default=False):\n",
        "    \"\"\"Imshow для тензоров\"\"\"\n",
        "    inp = inp.numpy().transpose((1, 2, 0))\n",
        "    mean = np.array([0.485, 0.456, 0.406])\n",
        "    std = np.array([0.229, 0.224, 0.225])\n",
        "    inp = std * inp + mean\n",
        "    inp = np.clip(inp, 0, 1)\n",
        "    plt_ax.imshow(inp)\n",
        "    if title is not None:\n",
        "        plt_ax.set_title(title)\n",
        "    plt_ax.grid(False)"
      ],
      "execution_count": 17,
      "outputs": []
    },
    {
      "cell_type": "code",
      "metadata": {
        "id": "LTmRDrB6OmrY"
      },
      "source": [
        "train_dir = Path('seg_train/')"
      ],
      "execution_count": null,
      "outputs": []
    }
  ]
}